{
  "nbformat": 4,
  "nbformat_minor": 0,
  "metadata": {
    "colab": {
      "provenance": [],
      "gpuType": "T4",
      "mount_file_id": "1hX89gipdLkeipYCJxJJhGGXoizAA6xhz",
      "authorship_tag": "ABX9TyOfbtL06GdUAwaCaKGyJpXr",
      "include_colab_link": true
    },
    "kernelspec": {
      "name": "python3",
      "display_name": "Python 3"
    },
    "language_info": {
      "name": "python"
    },
    "accelerator": "GPU"
  },
  "cells": [
    {
      "cell_type": "markdown",
      "metadata": {
        "id": "view-in-github",
        "colab_type": "text"
      },
      "source": [
        "<a href=\"https://colab.research.google.com/github/JiwooNAM/Jacxxy/blob/main/Neuropixel.ipynb\" target=\"_parent\"><img src=\"https://colab.research.google.com/assets/colab-badge.svg\" alt=\"Open In Colab\"/></a>"
      ]
    },
    {
      "cell_type": "code",
      "execution_count": 41,
      "metadata": {
        "colab": {
          "base_uri": "https://localhost:8080/"
        },
        "id": "umtUIIM0QumW",
        "outputId": "85dbac5e-8f72-4489-e41c-69cf333006d0"
      },
      "outputs": [
        {
          "output_type": "stream",
          "name": "stdout",
          "text": [
            "Torch: 2.8.0+cu126 | CUDA: True\n"
          ]
        }
      ],
      "source": [
        "!pip -q install pynwb h5py matplotlib\n",
        "# 파이토치는 Colab에 기본 설치되어 있습니다. (torch==2.x)\n",
        "import torch, sys\n",
        "print(\"Torch:\", torch.__version__, \"| CUDA:\", torch.cuda.is_available())"
      ]
    },
    {
      "cell_type": "code",
      "source": [
        "from google.colab import drive\n",
        "drive.mount('/content/drive')\n",
        "\n",
        "# 예: 드라이브에 업로드한 NWB 파일 경로\n",
        "session_files = [\n",
        "    \"/content/drive/MyDrive/Neuropixel/sub-619293_ses-1184980079_ogen.nwb\",\n",
        "    \"/content/drive/MyDrive/Neuropixel/sub-619296_ses-1187930705_ogen.nwb\",\n",
        "]"
      ],
      "metadata": {
        "id": "H2pbS9fERL07",
        "colab": {
          "base_uri": "https://localhost:8080/"
        },
        "outputId": "cf3ff3f7-7fad-48db-d83f-3b2b1b7687be"
      },
      "execution_count": 42,
      "outputs": [
        {
          "output_type": "stream",
          "name": "stdout",
          "text": [
            "Drive already mounted at /content/drive; to attempt to forcibly remount, call drive.mount(\"/content/drive\", force_remount=True).\n"
          ]
        }
      ]
    },
    {
      "cell_type": "code",
      "source": [
        "import os\n",
        "import copy\n",
        "import math\n",
        "import numpy as np\n",
        "import torch\n",
        "import torch.nn as nn\n",
        "import torch.nn.functional as F\n",
        "import torch.optim as optim\n",
        "import matplotlib.pyplot as plt\n",
        "\n",
        "# Optional: NWB loading\n",
        "try:\n",
        "    from pynwb import NWBHDF5IO\n",
        "    HAS_NWB = True\n",
        "except Exception:\n",
        "    HAS_NWB = False"
      ],
      "metadata": {
        "id": "_W6Pa7vwT7je"
      },
      "execution_count": 43,
      "outputs": []
    },
    {
      "cell_type": "markdown",
      "source": [
        "# =============================\n",
        "# 1) Data I/O: NWB → binned spikes\n",
        "# =============================\n"
      ],
      "metadata": {
        "id": "frVep2sGTiN6"
      }
    },
    {
      "cell_type": "code",
      "source": [
        "def load_spikes_from_nwb(path):\n",
        "    \"\"\"Return dict: {unit_id(int): spike_times(np.ndarray, seconds)}\"\"\"\n",
        "    assert HAS_NWB, \"pynwb not installed. Install pynwb or provide spikes directly.\"\n",
        "    io = NWBHDF5IO(path, 'r')\n",
        "    nwbfile = io.read()\n",
        "    spike_dict = {}\n",
        "    for i, unit_id in enumerate(nwbfile.units.id[:]):\n",
        "        spike_dict[int(unit_id)] = np.asarray(nwbfile.units['spike_times'][i])\n",
        "    io.close()\n",
        "    return spike_dict\n",
        "\n",
        "\n",
        "def bin_spikes(spike_dict, t0, t1, dt=0.001):\n",
        "    \"\"\"Bin spike times into counts per bin.\n",
        "    Returns: binned (N,T), time_edges[:-1], unit_ids(list)\n",
        "    \"\"\"\n",
        "    edges = np.arange(t0, t1 + dt, dt, dtype=float)\n",
        "    binned, unit_ids = [], []\n",
        "    for uid, st in spike_dict.items():\n",
        "        cnt, _ = np.histogram(st, bins=edges)\n",
        "        binned.append(cnt.astype(np.float32))\n",
        "        unit_ids.append(int(uid))\n",
        "    if len(binned) == 0:\n",
        "        return np.zeros((0, len(edges)-1), dtype=np.float32), edges[:-1], []\n",
        "    return np.stack(binned, axis=0), edges[:-1], unit_ids\n",
        "\n",
        "\n",
        "def session_stitch(spike_dict_list, t0, t1, dt=0.001):\n",
        "    \"\"\"Concatenate binned matrices across sessions along neuron axis.\n",
        "       Returns stitched (N_total, T)\"\"\"\n",
        "    mats = []\n",
        "    for sdict in spike_dict_list:\n",
        "        binned, _, _ = bin_spikes(sdict, t0, t1, dt)\n",
        "        mats.append(binned)\n",
        "    if len(mats) == 0:\n",
        "        return np.zeros((0, 0), dtype=np.float32)\n",
        "    return np.concatenate(mats, axis=0)"
      ],
      "metadata": {
        "id": "IbiKovRhT-kU"
      },
      "execution_count": 68,
      "outputs": []
    },
    {
      "cell_type": "markdown",
      "source": [
        "\n",
        "# =============================\n",
        "# 2) Biological masks: Dale's law + local-only inhibition + no self-connection\n",
        "# ============================="
      ],
      "metadata": {
        "id": "0siKdZQ4TqnD"
      }
    },
    {
      "cell_type": "code",
      "source": [
        "def build_sign_and_local_masks(area_ids, is_inh):\n",
        "    N = int(len(area_ids))\n",
        "    presyn_sign = np.where(is_inh, -1.0, +1.0).astype(np.float32)\n",
        "\n",
        "    # ✅ column-wise sign: S_sign[i,j] = sign_of_presyn(j)\n",
        "    S_sign = np.repeat(presyn_sign[None, :], N, axis=0)\n",
        "\n",
        "    aid = np.asarray(area_ids)\n",
        "    same_area = (aid[:, None] == aid[None, :]).astype(np.float32)\n",
        "\n",
        "    Lmask = np.ones((N, N), dtype=np.float32)\n",
        "    inh_rows = np.asarray(is_inh, dtype=bool)\n",
        "    Lmask[inh_rows, :] = same_area[inh_rows, :]\n",
        "\n",
        "    Dmask = np.ones((N, N), dtype=np.float32)\n",
        "    np.fill_diagonal(Dmask, 0.0)\n",
        "\n",
        "    return (torch.tensor(S_sign), torch.tensor(Lmask), torch.tensor(Dmask))"
      ],
      "metadata": {
        "id": "2eufH61IUFwe"
      },
      "execution_count": 69,
      "outputs": []
    },
    {
      "cell_type": "markdown",
      "source": [
        "# =============================\n",
        "# 3) RSNN layer with constraints\n",
        "# ============================="
      ],
      "metadata": {
        "id": "yIj1uAHpTv1Q"
      }
    },
    {
      "cell_type": "code",
      "source": [
        "class LIFLayerBio(nn.Module):\n",
        "    def __init__(self, N, S_sign, Lmask, Dmask, dt=1e-3, tau_mem=0.02, v_th=1.0, v_reset=0.0):\n",
        "        super().__init__()\n",
        "        self.N = N\n",
        "        self.dt = float(dt)\n",
        "        self.tau_mem = float(tau_mem)\n",
        "        self.alpha = float(torch.exp(torch.tensor(-self.dt / self.tau_mem)))\n",
        "        self.v_th = float(v_th)\n",
        "        self.v_reset = float(v_reset)\n",
        "\n",
        "        # 작게 초기화\n",
        "        self.W_raw = nn.Parameter(torch.randn(N, N)*1e-3)  # raw는 작은 값\n",
        "        self.W_in = nn.Parameter(torch.randn(self.N, self.N)*1e-3)  # 새로 정의 (기존 N×1은 삭제)\n",
        "\n",
        "\n",
        "        # 재귀 스케일 게인(초기 작게 시작; 학습 가능)\n",
        "        self.g_rec = nn.Parameter(torch.tensor(0.20))\n",
        "\n",
        "        # Fixed constraint buffers\n",
        "        self.register_buffer(\"S_sign\", S_sign.float())\n",
        "        self.register_buffer(\"Lmask\",  Lmask.float())\n",
        "        self.register_buffer(\"Dmask\",  Dmask.float())\n",
        "\n",
        "    def effective_W(self):\n",
        "        # ✅ softplus에 음수 오프셋 → 초기 유효가중치 거의 0\n",
        "        W_mag = F.softplus(self.W_raw - 5.0)  # softplus(≈-6) ≈ 0.0025\n",
        "        W = W_mag * self.S_sign * self.Lmask * self.Dmask\n",
        "        return self.g_rec * W  # 초기 재귀 영향 축소\n",
        "\n",
        "    def forward(self, inputs, steps=None, teacher=None, p_tf=0.0):\n",
        "        \"\"\"\n",
        "        inputs: (T, N)\n",
        "        teacher: (T, N) 타깃 시퀀스 (teacher forcing용), None이면 안 씀\n",
        "        p_tf: teacher forcing 비율 (0~1 사이)\n",
        "        \"\"\"\n",
        "        if steps is None:\n",
        "            steps = inputs.shape[0]\n",
        "        T, Nin = inputs.shape\n",
        "        assert Nin == self.N, \"Expect inputs of shape (T, N).\"\n",
        "        device = inputs.device\n",
        "        v = torch.zeros(self.N, device=device)\n",
        "        spikes = []\n",
        "        W = self.effective_W()\n",
        "\n",
        "        for t in range(T):\n",
        "            I = inputs[t]\n",
        "            I = self.W_in @ I\n",
        "            if t > 0:\n",
        "                prev_model = spikes[-1]\n",
        "                if teacher is not None and torch.rand(1).item() < p_tf:\n",
        "                    prev_sp = teacher[t - 1]  # 타겟 스파이크 사용\n",
        "                else:\n",
        "                    prev_sp = prev_model\n",
        "            else:\n",
        "                prev_sp = torch.zeros(self.N, device=device)\n",
        "\n",
        "            Irec = W @ prev_sp\n",
        "            v = self.alpha * v + (1.0 - self.alpha) * I + Irec\n",
        "            v = v.clamp(-10.0, 10.0)\n",
        "            out = torch.sigmoid((v - self.v_th) * 2.0)\n",
        "            v = v * (1.0 - out) + self.v_reset * out\n",
        "            spikes.append(out)\n",
        "\n",
        "        spikes = torch.stack(spikes)\n",
        "        if torch.isnan(spikes).any():\n",
        "            raise ValueError(\"NaN detected in spikes\")\n",
        "        return spikes"
      ],
      "metadata": {
        "id": "YLHuTy_VUIQW"
      },
      "execution_count": 70,
      "outputs": []
    },
    {
      "cell_type": "markdown",
      "source": [
        "# =============================\n",
        "# 4) Training utilities (t+1 prediction)\n",
        "# ============================="
      ],
      "metadata": {
        "id": "jnsFpF0tT105"
      }
    },
    {
      "cell_type": "code",
      "source": [
        "def make_inputs_targets_from_binned_shift(binned_TxN, delta=1):\n",
        "    \"\"\"\n",
        "    binned_TxN: (T,N) 시퀀스\n",
        "    delta: 타깃으로 얼마나 미래를 예측할지 (기본 1 step)\n",
        "    \"\"\"\n",
        "    X = binned_TxN\n",
        "    assert delta >= 1 and delta < X.shape[0]\n",
        "    return X[:-delta], X[delta:]\n",
        "\n",
        "\n",
        "def train_tplus1(model, inp, tgt, epochs=10, lr=3e-4, lambda_in=1e-2, lambda_w1=1e-4, verbose=True):\n",
        "    opt = optim.Adam(model.parameters(), lr=lr)\n",
        "    hist = []\n",
        "\n",
        "    for ep in range(epochs):\n",
        "        opt.zero_grad()\n",
        "        spk = model(inp, steps=inp.shape[0], teacher=tgt, p_tf=0.7)  # 초반 크게, 이후 에폭마다 낮춤\n",
        "        trial_loss = ((spk - tgt) ** 2).mean()\n",
        "        psth_loss  = ((spk.mean(1) - tgt.mean(1)) ** 2).mean()\n",
        "        reg = lambda_w1 * model.effective_W().abs().mean() + lambda_in * model.W_in.abs().mean()\n",
        "        loss = 0.7 * trial_loss + 0.3 * psth_loss + reg\n",
        "        loss.backward()\n",
        "        opt.step()\n",
        "        hist.append((float(loss.item()), float(trial_loss.item()), float(psth_loss.item())))\n",
        "        if verbose:\n",
        "            print(f\"Epoch {ep+1}/{epochs} | loss={loss.item():.6f} | trial={trial_loss.item():.6f} | psth={psth_loss.item():.6f}\")\n",
        "\n",
        "    return hist"
      ],
      "metadata": {
        "id": "cENfgQJ4UsXD"
      },
      "execution_count": 71,
      "outputs": []
    },
    {
      "cell_type": "markdown",
      "source": [
        "# =============================\n",
        "# 5) Robustness test\n",
        "# ============================="
      ],
      "metadata": {
        "id": "VT4twDPpUOvs"
      }
    },
    {
      "cell_type": "code",
      "source": [
        "def perturb_W(W, method='random', frac=0.2, scale=0.01):\n",
        "    W_new = W.clone()\n",
        "    N = W.numel()\n",
        "    k = max(1, int(frac * N))\n",
        "    idx = torch.randperm(N)[:k]\n",
        "    if method == 'random':\n",
        "        W_new.view(-1)[idx] = torch.randn_like(W_new.view(-1)[idx]) * scale\n",
        "    elif method == 'shuffle':\n",
        "        W_new.view(-1)[idx] = W_new.view(-1)[torch.randperm(N)[:k]]\n",
        "    else:\n",
        "        raise ValueError(\"Unknown method\")\n",
        "    return W_new\n",
        "\n",
        "\n",
        "def robustness_ratio(model, inp, tgt, frac=0.2):\n",
        "    with torch.no_grad():\n",
        "        spk_o = model(inp, steps=inp.shape[0])\n",
        "        loss_o = ((spk_o - tgt) ** 2).mean().item()\n",
        "\n",
        "    mpert = copy.deepcopy(model)\n",
        "    with torch.no_grad():\n",
        "        mpert.W_raw.copy_(perturb_W(mpert.W_raw, frac=frac))\n",
        "        spk_p = mpert(inp, steps=inp.shape[0])\n",
        "        loss_p = ((spk_p - tgt) ** 2).mean().item()\n",
        "    ratio = loss_p / (loss_o + 1e-12)\n",
        "    print(f\"Robustness: original={loss_o:.6f} perturbed={loss_p:.6f} ratio={ratio:.3f}\")\n",
        "    return ratio, loss_o, loss_p"
      ],
      "metadata": {
        "id": "umnWK9R6UxHU"
      },
      "execution_count": 72,
      "outputs": []
    },
    {
      "cell_type": "markdown",
      "source": [
        "# =============================\n",
        "# 6) CCG utilities\n",
        "# ============================="
      ],
      "metadata": {
        "id": "8Z3Dv7YCUS0i"
      }
    },
    {
      "cell_type": "code",
      "source": [
        "def compute_ccg(sp1, sp2, max_lag_bins=50, subtract_mean=True):\n",
        "    x = sp1.astype(np.float32)\n",
        "    y = sp2.astype(np.float32)\n",
        "    if subtract_mean:\n",
        "        x = x - x.mean()\n",
        "        y = y - y.mean()\n",
        "    ccg_full = np.correlate(x, y, mode='full')\n",
        "    mid = len(ccg_full) // 2\n",
        "    return ccg_full[mid - max_lag_bins : mid + max_lag_bins + 1]\n",
        "\n",
        "\n",
        "def ccg_metrics(ccg, dt, pos_win_ms=20.0):\n",
        "    L = len(ccg)\n",
        "    half = L // 2\n",
        "    lags = (np.arange(L) - half) * dt  # seconds\n",
        "    pos_mask = (lags > 0) & (lags <= pos_win_ms / 1000.0)\n",
        "    neg_mask = (lags < 0) & (lags >= -pos_win_ms / 1000.0)\n",
        "    if not (pos_mask.any() and neg_mask.any()):\n",
        "        return np.nan, np.nan, np.nan, np.nan\n",
        "    pos_vals = ccg[pos_mask]\n",
        "    neg_vals = ccg[neg_mask]\n",
        "    pos_peak = float(pos_vals.max())\n",
        "    neg_peak = float(neg_vals.max())\n",
        "    asym = float(pos_peak - neg_peak)\n",
        "    lag_at_pos_peak = float(((np.where(pos_mask)[0])[pos_vals.argmax()] - half) * dt)\n",
        "    return pos_peak, neg_peak, asym, lag_at_pos_peak\n",
        "\n",
        "\n",
        "def ccg_vs_W_summary(binned_NxT, W_eff, dt, K=2000, max_lag_bins=50, use_abs=True, plot=False):\n",
        "    N, T = binned_NxT.shape\n",
        "    W = W_eff.detach().cpu().numpy().copy()\n",
        "    np.fill_diagonal(W, 0.0)\n",
        "    flat = W.ravel()\n",
        "    scores = np.abs(flat) if use_abs else flat\n",
        "    K = min(K, flat.size)\n",
        "    top_idx = np.argpartition(scores, -K)[-K:]\n",
        "\n",
        "    W_vals, asym_vals, pospeaks, negpeaks, lags = [], [], [], [], []\n",
        "    for idx in top_idx:\n",
        "        i, j = divmod(int(idx), N)\n",
        "        ccg = compute_ccg(binned_NxT[i], binned_NxT[j], max_lag_bins=max_lag_bins, subtract_mean=True)\n",
        "        pos_peak, neg_peak, asym, lag_pos = ccg_metrics(ccg, dt, pos_win_ms=20.0)\n",
        "        W_vals.append(W[i, j])\n",
        "        pospeaks.append(pos_peak)\n",
        "        negpeaks.append(neg_peak)\n",
        "        asym_vals.append(asym)\n",
        "        lags.append(lag_pos)\n",
        "\n",
        "    W_vals = np.array(W_vals); asym_vals = np.array(asym_vals); pospeaks = np.array(pospeaks)\n",
        "    # Simple Pearson r\n",
        "    def pearson(a, b):\n",
        "        ok = np.isfinite(a) & np.isfinite(b)\n",
        "        if ok.sum() < 2:\n",
        "            return np.nan\n",
        "        a0 = a[ok] - a[ok].mean(); b0 = b[ok] - b[ok].mean()\n",
        "        den = (np.sqrt((a0**2).sum()) * np.sqrt((b0**2).sum()) + 1e-12)\n",
        "        return float((a0*b0).sum() / den)\n",
        "\n",
        "    r_asym = pearson(W_vals, asym_vals)\n",
        "    r_posp = pearson(W_vals, pospeaks)\n",
        "\n",
        "    print(f\"CCG asym (0–20ms pos - neg) vs W: r = {r_asym:.3f}, n = {len(W_vals)}\")\n",
        "    print(f\"CCG pos-lag peak (0–20ms) vs W:  r = {r_posp:.3f}, n = {len(W_vals)}\")\n",
        "\n",
        "    if plot:\n",
        "        plt.figure(figsize=(5,4)); plt.scatter(W_vals, asym_vals, s=6, alpha=0.3)\n",
        "        plt.xlabel(\"W_ij\"); plt.ylabel(\"CCG asym 0–20ms\"); plt.title(f\"r={r_asym:.3f}\")\n",
        "        plt.tight_layout(); plt.show()\n",
        "        plt.figure(figsize=(5,4)); plt.scatter(W_vals, pospeaks, s=6, alpha=0.3)\n",
        "        plt.xlabel(\"W_ij\"); plt.ylabel(\"CCG pos-lag peak 0–20ms\"); plt.title(f\"r={r_posp:.3f}\")\n",
        "        plt.tight_layout(); plt.show()\n",
        "\n",
        "    return {\n",
        "        'W': W_vals,\n",
        "        'asym': asym_vals,\n",
        "        'pospeak': pospeaks,\n",
        "        'r_asym': r_asym,\n",
        "        'r_pospeak': r_posp,\n",
        "        'lags': np.array(lags),\n",
        "    }"
      ],
      "metadata": {
        "id": "k3Eep02JU3WM"
      },
      "execution_count": 73,
      "outputs": []
    },
    {
      "cell_type": "markdown",
      "source": [
        "# =============================\n",
        "# 7) Holography simulation (opsin drive)\n",
        "# ============================="
      ],
      "metadata": {
        "id": "kh1aVNBrUZyh"
      }
    },
    {
      "cell_type": "code",
      "source": [
        "def make_opsin_kernel(dt, tau_r=0.003, tau_d=0.030, dur=0.200, A=0.01):\n",
        "    T = int(dur / dt) + 1\n",
        "    t = np.arange(T, dtype=float) * dt\n",
        "    k = A * (np.exp(-t / tau_d) - np.exp(-t / tau_r))\n",
        "    k[k < 0] = 0.0\n",
        "    return k.astype(np.float32)\n",
        "\n",
        "\n",
        "def build_photo_drive(N, T, stim_events, dt, A=1.0, tau_r=0.003, tau_d=0.030):\n",
        "    photo = np.zeros((T, N), dtype=np.float32)\n",
        "    base_k = make_opsin_kernel(dt, tau_r, tau_d, dur=0.5, A=A)\n",
        "    for ev in stim_events:\n",
        "        cells = ev[\"cells\"]\n",
        "        t_on  = ev[\"t_on\"]; dur = ev.get(\"dur\", 0.050)\n",
        "        power = float(ev.get(\"power\", 1.0))\n",
        "        k = base_k * power\n",
        "        L = len(k)\n",
        "        t0 = int(t_on / dt)\n",
        "        t1 = min(T, t0 + L)\n",
        "        for c in cells:\n",
        "            if 0 <= c < N:\n",
        "                photo[t0:t1, c] += k[:(t1 - t0)]\n",
        "    return photo\n",
        "\n",
        "\n",
        "def window_counts(spikes_TxN, t_on, dt, win=(0.0, 0.020), cells=None, thresh=0.5):\n",
        "    T, N = spikes_TxN.shape\n",
        "    i0 = max(0, int((t_on + win[0]) / dt))\n",
        "    i1 = min(T, int((t_on + win[1]) / dt))\n",
        "    if cells is None:\n",
        "        cells = np.arange(N)\n",
        "    s = (spikes_TxN > thresh).astype(np.float32)\n",
        "    return s[i0:i1, cells].sum(axis=0)\n",
        "\n",
        "\n",
        "def latency_ms(spikes_TxN, t_on, dt, cells, thresh=0.5):\n",
        "    T, N = spikes_TxN.shape\n",
        "    idx_on = int(t_on / dt)\n",
        "    sbin = (spikes_TxN > thresh).astype(np.float32)\n",
        "    lats = []\n",
        "    for c in cells:\n",
        "        post = np.where(sbin[idx_on:, c] > 0)[0]\n",
        "        if post.size == 0:\n",
        "            lats.append(np.nan)\n",
        "        else:\n",
        "            lats.append(float(post[0] * dt * 1000.0))\n",
        "    return np.array(lats)\n",
        "\n",
        "\n",
        "def run_holography_protocol(model, base_inputs_TxN, dt, stim_cells_sets, t_on=2.0, powers=(0.2,0.4,0.6,0.8,1.0)):\n",
        "    \"\"\"Return dose–response stats per cell-set.\n",
        "       stim_cells_sets: list of lists of cell indices (e.g., [[10], [101,205,309], ...])\n",
        "    \"\"\"\n",
        "    device = base_inputs_TxN.device\n",
        "    T, N = base_inputs_TxN.shape\n",
        "    base = base_inputs_TxN\n",
        "    results = []\n",
        "\n",
        "    # Baseline trial (no photo)\n",
        "    with torch.no_grad():\n",
        "        spk_base = model(base, steps=T).detach().cpu().numpy()\n",
        "\n",
        "    for cells in stim_cells_sets:\n",
        "        cell_list = list(cells)\n",
        "        dose = []\n",
        "        for p in powers:\n",
        "            photo = build_photo_drive(N, T, [{\"cells\": cell_list, \"t_on\": t_on, \"power\": p, \"dur\": 0.050}], dt=dt, A=1.0)\n",
        "            inp_aug = base.detach().cpu().numpy() + photo\n",
        "            inp_aug = torch.tensor(inp_aug, dtype=torch.float32, device=device)\n",
        "            with torch.no_grad():\n",
        "                spk = model(inp_aug, steps=T).detach().cpu().numpy()\n",
        "            # Simple metrics\n",
        "            cnt = window_counts(spk, t_on=t_on, dt=dt, win=(0.0, 0.020), cells=cell_list, thresh=0.9).mean()\n",
        "            lat = np.nanmean(latency_ms(spk, t_on=t_on, dt=dt, cells=cell_list))\n",
        "            dose.append((float(p), float(cnt), float(lat)))\n",
        "        results.append({\"cells\": cell_list, \"dose\": dose})\n",
        "\n",
        "    # Optional: print summary\n",
        "    for r in results:\n",
        "        print(f\"Stim cells {r['cells']}: \")\n",
        "        for (p, cnt, lat) in r[\"dose\"]:\n",
        "            print(f\"  power={p:.2f} -> mean count(0–20ms)={cnt:.3f}, latency_ms={lat:.1f}\")\n",
        "    return results"
      ],
      "metadata": {
        "id": "L6H8wwf2V-A5"
      },
      "execution_count": 74,
      "outputs": []
    },
    {
      "cell_type": "markdown",
      "source": [
        "# =============================\n",
        "# 8) Main pipeline\n",
        "# ============================="
      ],
      "metadata": {
        "id": "EVstkmOXUe6T"
      }
    },
    {
      "cell_type": "code",
      "source": [
        "def main():\n",
        "    device = \"cuda\" if torch.cuda.is_available() else \"cpu\"\n",
        "\n",
        "    # ---- USER CONFIG ----\n",
        "    session_files = [\n",
        "        r\"/content/drive/MyDrive/Neuropixel/sub-619293_ses-1184980079_ogen.nwb\",\n",
        "        r\"/content/drive/MyDrive/Neuropixel/sub-619296_ses-1187930705_ogen.nwb\"\n",
        "    ]\n",
        "    t0, t1, dt = 0.0, 10.0, 0.001  # 10 seconds @ 1ms bins\n",
        "\n",
        "    if len(session_files) and HAS_NWB:\n",
        "        spike_dict_list = [load_spikes_from_nwb(f) for f in session_files]\n",
        "        stitched = session_stitch(spike_dict_list, t0, t1, dt)\n",
        "    else:\n",
        "        raise RuntimeError(\"Please provide NWB paths in session_files.\")\n",
        "\n",
        "    print(\"Stitched spike shape:\", stitched.shape)  # (N, T)\n",
        "    if stitched.size == 0:\n",
        "        raise RuntimeError(\"No spikes loaded.\")\n",
        "\n",
        "    # Use raw binned; clip to 0/1 for 5ms bins\n",
        "    stitched = np.clip(stitched, 0, 1).astype(np.float32)\n",
        "\n",
        "    # Build tensors (T,N)\n",
        "    X = torch.tensor(stitched.T, dtype=torch.float32, device=device)\n",
        "    T, N = X.shape\n",
        "\n",
        "    # Masks (replace with real labels if available)\n",
        "    area_ids = np.zeros(N, dtype=int)         # default: single area\n",
        "    is_inh   = np.zeros(N, dtype=bool)\n",
        "    is_inh[::5] = True                        # ~20% inhibitory\n",
        "\n",
        "    S_sign, Lmask, Dmask = build_sign_and_local_masks(area_ids, is_inh)\n",
        "\n",
        "    # Model\n",
        "    model = LIFLayerBio(N, S_sign.to(device), Lmask.to(device), Dmask.to(device), dt=dt).to(device)\n",
        "\n",
        "    # t+1 prediction setup\n",
        "    # Δ를 고정하거나 랜덤으로 뽑기\n",
        "    delta = np.random.randint(1, 6)  # 1~5 step 랜덤\n",
        "    inp, tgt = make_inputs_targets_from_binned_shift(X, delta=delta)\n",
        "\n",
        "\n",
        "\n",
        "    # Train\n",
        "    _ = train_tplus1(model, inp, tgt, epochs=10, lr=1e-2, lambda_in=0.0, lambda_w1=1e-5, verbose=True)\n",
        "\n",
        "    # Robustness\n",
        "    _ratio, _lo, _lp = robustness_ratio(model, inp, tgt, frac=0.2)\n",
        "\n",
        "    # CCG vs W on top-|W| pairs\n",
        "    with torch.no_grad():\n",
        "        W_eff = model.effective_W()\n",
        "    ccg_res = ccg_vs_W_summary(binned_NxT=stitched, W_eff=W_eff, dt=dt, K=2000, max_lag_bins=50, use_abs=True, plot=False)\n",
        "\n",
        "    # Holography demo: single cell + small ensemble\n",
        "    stim_sets = [ [10], [101, 205, 309] ] if N > 310 else [ [min(10, N-1)], list(np.unique(np.linspace(0, N-1, num=min(3, N), dtype=int))) ]\n",
        "    holo = run_holography_protocol(model, X, dt, stim_sets, t_on=2.013, powers=(0.2,0.4,0.6,0.8,1.2))\n",
        "\n",
        "    print(\"Done.\")"
      ],
      "metadata": {
        "id": "Sd3EUzqAWvHI"
      },
      "execution_count": 79,
      "outputs": []
    },
    {
      "cell_type": "code",
      "source": [
        "if __name__ == \"__main__\":\n",
        "    main()"
      ],
      "metadata": {
        "id": "6aqY_BgPS0h7",
        "colab": {
          "base_uri": "https://localhost:8080/"
        },
        "outputId": "ae5bdce7-ad82-461a-f256-97aceb07ac5e"
      },
      "execution_count": 80,
      "outputs": [
        {
          "output_type": "stream",
          "name": "stdout",
          "text": [
            "Stitched spike shape: (4054, 10000)\n",
            "Epoch 1/10 | loss=0.127306 | trial=0.128069 | psth=0.125526\n",
            "Epoch 2/10 | loss=0.115951 | trial=0.116717 | psth=0.114163\n",
            "Epoch 3/10 | loss=0.102357 | trial=0.103135 | psth=0.100543\n",
            "Epoch 4/10 | loss=0.095498 | trial=0.096297 | psth=0.093632\n",
            "Epoch 5/10 | loss=0.082498 | trial=0.083335 | psth=0.080546\n",
            "Epoch 6/10 | loss=0.067241 | trial=0.068136 | psth=0.065152\n",
            "Epoch 7/10 | loss=0.054617 | trial=0.055603 | psth=0.052316\n",
            "Epoch 8/10 | loss=0.036891 | trial=0.038165 | psth=0.033918\n",
            "Epoch 9/10 | loss=0.033868 | trial=0.035205 | psth=0.030747\n",
            "Epoch 10/10 | loss=0.031575 | trial=0.032967 | psth=0.028327\n",
            "Robustness: original=0.470321 perturbed=0.491713 ratio=1.045\n",
            "CCG asym (0–20ms pos - neg) vs W: r = -0.026, n = 2000\n",
            "CCG pos-lag peak (0–20ms) vs W:  r = 0.043, n = 2000\n",
            "Stim cells [10]: \n",
            "  power=0.20 -> mean count(0–20ms)=0.000, latency_ms=0.0\n",
            "  power=0.40 -> mean count(0–20ms)=0.000, latency_ms=0.0\n",
            "  power=0.60 -> mean count(0–20ms)=0.000, latency_ms=0.0\n",
            "  power=0.80 -> mean count(0–20ms)=0.000, latency_ms=0.0\n",
            "  power=1.20 -> mean count(0–20ms)=0.000, latency_ms=0.0\n",
            "Stim cells [101, 205, 309]: \n",
            "  power=0.20 -> mean count(0–20ms)=0.000, latency_ms=0.0\n",
            "  power=0.40 -> mean count(0–20ms)=0.000, latency_ms=0.0\n",
            "  power=0.60 -> mean count(0–20ms)=0.000, latency_ms=0.0\n",
            "  power=0.80 -> mean count(0–20ms)=0.000, latency_ms=0.0\n",
            "  power=1.20 -> mean count(0–20ms)=0.000, latency_ms=0.0\n",
            "Done.\n"
          ]
        }
      ]
    },
    {
      "cell_type": "code",
      "source": [
        "def find_responsive_neurons(spike_dict, stim_events, dt=0.001, win_ms=50.0):\n",
        "    \"\"\"\n",
        "    Finds neurons that show a significant increase in spiking activity after holographic stimulation.\n",
        "    Returns a list of responsive neuron IDs.\n",
        "    \"\"\"\n",
        "    responsive_neurons = set()\n",
        "    win_bins = int(win_ms / 1000.0 / dt)\n",
        "\n",
        "    for ev in stim_events:\n",
        "        t_on = ev[\"t_on\"]\n",
        "        stim_cells = ev.get(\"cells\", [])\n",
        "\n",
        "        # 1. 대상 뉴런들의 스파이크 데이터 추출\n",
        "        for unit_id in stim_cells:\n",
        "            if unit_id not in spike_dict:\n",
        "                continue\n",
        "\n",
        "            spike_times = spike_dict[unit_id]\n",
        "            t_start = t_on - win_ms / 1000.0\n",
        "\n",
        "            # 2. 기준선 및 반응 윈도우의 스파이크 수 계산\n",
        "            baseline_spikes = np.sum((spike_times >= t_start) & (spike_times < t_on))\n",
        "            response_spikes = np.sum((spike_times >= t_on) & (spike_times < t_on + win_ms / 1000.0))\n",
        "\n",
        "            # 3. 유의미한 스파이크 수 증가 확인\n",
        "            # 간단한 임계치 또는 통계 테스트(예: t-test)를 사용\n",
        "            if response_spikes > baseline_spikes * 1.5 and response_spikes > 10:  # 예시 임계치\n",
        "                responsive_neurons.add(unit_id)\n",
        "\n",
        "    return list(responsive_neurons)"
      ],
      "metadata": {
        "id": "iqRTx3rSJxq1"
      },
      "execution_count": 53,
      "outputs": []
    },
    {
      "cell_type": "code",
      "source": [
        "# 예시 사용법\n",
        "nwb_file = \"/content/drive/MyDrive/Neuropixel/sub-619296_ses-1187930705_ogen.nwb\"\n",
        "io = NWBHDF5IO(nwb_file, 'r')\n",
        "nwbfile = io.read()\n",
        "\n",
        "# Placeholder function for get_stimulation_events\n",
        "def get_stimulation_events(nwbfile):\n",
        "    \"\"\"\n",
        "    Placeholder function to extract stimulation events from NWB file.\n",
        "    Replace with actual implementation based on NWB file structure.\n",
        "    Returns a list of dictionaries, each with 't_on' and 'cells'.\n",
        "    \"\"\"\n",
        "    # Example placeholder events\n",
        "    return [\n",
        "        {\"t_on\": 2.013, \"cells\": [10]},\n",
        "        {\"t_on\": 2.013, \"cells\": [101, 205, 309]},\n",
        "    ]\n",
        "\n",
        "\n",
        "stim_events_from_nwb = get_stimulation_events(nwbfile) # NWB에서 자극 정보 추출 필요\n",
        "spike_data = load_spikes_from_nwb(nwb_file)\n",
        "responsive_list = find_responsive_neurons(spike_data, stim_events_from_nwb)\n",
        "print(f\"Found {len(responsive_list)} responsive neuron(s):\")\n",
        "print(responsive_list)"
      ],
      "metadata": {
        "colab": {
          "base_uri": "https://localhost:8080/"
        },
        "id": "5TpZB5gOJ_jp",
        "outputId": "9b6feb0a-6198-4135-d217-0f175d036f52"
      },
      "execution_count": 57,
      "outputs": [
        {
          "output_type": "stream",
          "name": "stdout",
          "text": [
            "Found 0 responsive neuron(s):\n",
            "[]\n"
          ]
        }
      ]
    },
    {
      "cell_type": "markdown",
      "metadata": {
        "id": "39a9f68f"
      },
      "source": [
        "# Task\n",
        "Analyze the current results of the RSNN model fitting, focusing on the robustness ratio, CCG correlation, and holography simulation output. Based on this analysis, identify and implement improvements to the model and training process to address the observed issues, specifically the low robustness ratio, poor CCG correspondence, and lack of response in the holography simulation. Re-run the model and evaluate the impact of the changes on the performance metrics. Continue iterating on the model and training until satisfactory results are achieved for both Aim 1 (connectivity estimation validation) and Aim 2 (recapitulating holography results). Finally, summarize the findings and present the improved model and its performance."
      ]
    },
    {
      "cell_type": "markdown",
      "metadata": {
        "id": "cc1b4074"
      },
      "source": [
        "## Analyze current results\n",
        "\n",
        "### Subtask:\n",
        "Review the outputs from the last execution, focusing on the robustness ratio, CCG correlation values (`r_asym`, `r_pospeak`), and the holography simulation output (mean counts and latencies). This will help pinpoint the extent of the issues in each area.\n"
      ]
    },
    {
      "cell_type": "markdown",
      "metadata": {
        "id": "ce8a0097"
      },
      "source": [
        "**Reasoning**:\n",
        "Review the output from the previous execution to identify the key performance metrics: robustness ratio, CCG correlations (asymmetry and positive lag peak), and holography simulation results (mean counts and latencies).\n",
        "\n"
      ]
    },
    {
      "cell_type": "code",
      "metadata": {
        "id": "76dbcd99"
      },
      "source": [
        "# Reviewing the output from the previous execution:\n",
        "# Robustness ratio: Look for the line starting with \"Robustness:\".\n",
        "# CCG correlations: Look for lines starting with \"CCG asym\" and \"CCG pos-lag peak\".\n",
        "# Holography simulation: Look for the section starting with \"Stim cells\".\n",
        "\n",
        "# Based on the provided output:\n",
        "robustness_ratio_value = 1.027  # From \"Robustness: original=0.281640 perturbed=0.289195 ratio=1.027\"\n",
        "ccg_asym_r = 0.022            # From \"CCG asym (0–20ms pos - neg) vs W: r = 0.022, n = 2000\"\n",
        "ccg_pospeak_r = 0.848         # From \"CCG pos-lag peak (0–20ms) vs W: r = 0.848, n = 2000\"\n",
        "\n",
        "# Holography simulation results (from \"Stim cells\" section):\n",
        "# For Stim cells [10]: mean counts and latencies are all 0.000 and 0.0 respectively across all power levels.\n",
        "# For Stim cells [101, 205, 309]: mean counts and latencies are all 0.000 and 0.0 respectively across all power levels.\n",
        "\n",
        "print(f\"Robustness Ratio: {robustness_ratio_value}\")\n",
        "print(f\"CCG Asymmetry Correlation (r): {ccg_asym_r}\")\n",
        "print(f\"CCG Positive Peak Correlation (r): {ccg_pospeak_r}\")\n",
        "print(\"Holography Simulation Results:\")\n",
        "print(\"Stim cells [10]: Mean counts and latencies are all zero.\")\n",
        "print(\"Stim cells [101, 205, 309]: Mean counts and latencies are all zero.\")\n",
        "\n",
        "# Summarize the current state:\n",
        "print(\"\\nSummary of Current Model Performance:\")\n",
        "print(f\"- Robustness: The ratio ({robustness_ratio_value:.3f}) is close to 1, indicating the model's performance is not highly sensitive to random perturbations of effective weights.\")\n",
        "print(f\"- Learned Connectivity (CCG): The correlation between effective weights and CCG asymmetry ({ccg_asym_r:.3f}) is very low, suggesting that the learned connectivity doesn't strongly reflect the expected asymmetric structure related to synaptic transmission delays. The correlation with the positive peak ({ccg_pospeak_r:.3f}) is high, which is a positive sign for predicting the timing of postsynaptic responses, but the asymmetry is a more direct measure of directed connectivity.\")\n",
        "print(f\"- Holography Simulation: The simulation shows no response (zero mean counts and latencies) for both single-cell and ensemble stimulation across all tested power levels. This indicates that the model is currently unable to recapitulate the expected excitatory responses to optogenetic stimulation.\")"
      ],
      "execution_count": null,
      "outputs": []
    },
    {
      "cell_type": "markdown",
      "metadata": {
        "id": "18f6dc35"
      },
      "source": [
        "# Task\n",
        "Analyze and improve the recurrent spiking neural network (RSNN) model based on illusory contour Neuropixels data to accurately estimate connectivity (Aim 1) and recapitulate holography experiment results (Aim 2). This involves investigating current unsatisfactory results (low robustness ratio, poor CCG correlation, zero mean counts, and problematic latencies in holography simulation), adjusting model parameters and training configurations, and iteratively evaluating the performance against the defined metrics."
      ]
    },
    {
      "cell_type": "markdown",
      "metadata": {
        "id": "0fe367b1"
      },
      "source": [
        "## Analyze current results\n",
        "\n",
        "### Subtask:\n",
        "Review the outputs from the last execution, focusing on the robustness ratio, CCG correlation values (`r_asym`, `r_pospeak`), and the holography simulation output (mean counts and latencies) for both single cell and ensemble stimulation.\n"
      ]
    },
    {
      "cell_type": "markdown",
      "metadata": {
        "id": "ade2324a"
      },
      "source": [
        "## Investigate robustness and training stability\n",
        "\n",
        "### Subtask:\n",
        "Examine the training loss over 50 epochs to see if it's converging or becoming unstable. Analyze the magnitude of the learned weights (`W_eff`) to understand if they are growing too large or remaining too small, which could affect robustness and CCG correspondence.\n"
      ]
    },
    {
      "cell_type": "markdown",
      "metadata": {
        "id": "ef7c4b2f"
      },
      "source": [
        "**Reasoning**:\n",
        "Extract loss history from the `hist` variable, calculate statistics for the effective weights, and then plot the loss history to visualize training progress and analyze the weight distribution.\n",
        "\n"
      ]
    },
    {
      "cell_type": "code",
      "metadata": {
        "colab": {
          "base_uri": "https://localhost:8080/",
          "height": 731
        },
        "id": "d2ae052c",
        "outputId": "1e946aeb-dad0-45f8-eed6-c22facbb9302"
      },
      "source": [
        "# Access the hist variable from the previous execution\n",
        "# hist = [(loss.item(), trial_loss.item(), psth_loss.item()) for ep in range(epochs)]\n",
        "# Assuming 'hist' variable is accessible from the previous training run\n",
        "# If not, you might need to re-run the training part or make 'hist' global\n",
        "\n",
        "# Extract loss values\n",
        "total_loss = [h[0] for h in hist]\n",
        "trial_loss = [h[1] for h in hist]\n",
        "psth_loss = [h[2] for h in hist]\n",
        "epochs_range = range(1, len(hist) + 1)\n",
        "\n",
        "# Plot the loss history\n",
        "plt.figure(figsize=(10, 6))\n",
        "plt.plot(epochs_range, total_loss, label='Total Loss')\n",
        "plt.plot(epochs_range, trial_loss, label='Trial Loss')\n",
        "plt.plot(epochs_range, psth_loss, label='PSTH Loss')\n",
        "plt.xlabel('Epoch')\n",
        "plt.ylabel('Loss')\n",
        "plt.title('Training Loss Over Epochs')\n",
        "plt.legend()\n",
        "plt.grid(True)\n",
        "plt.show()\n",
        "\n",
        "# Access the effective_W tensor from the trained model\n",
        "with torch.no_grad():\n",
        "    effective_W = model.effective_W()\n",
        "\n",
        "# Calculate and print statistics for effective_W\n",
        "print(\"\\nStatistics for effective_W:\")\n",
        "print(f\"Mean: {effective_W.mean().item():.6f}\")\n",
        "print(f\"Standard Deviation: {effective_W.std().item():.6f}\")\n",
        "print(f\"Min: {effective_W.min().item():.6f}\")\n",
        "print(f\"Max: {effective_W.max().item():.6f}\")\n",
        "print(f\"Median: {effective_W.median().item():.6f}\")\n",
        "print(f\"Number of non-zero elements: {(effective_W != 0).sum().item()}\")\n",
        "print(f\"Sparsity: {1.0 - (effective_W != 0).sum().item() / effective_W.numel():.6f}\")"
      ],
      "execution_count": 39,
      "outputs": [
        {
          "output_type": "display_data",
          "data": {
            "text/plain": [
              "<Figure size 1000x600 with 1 Axes>"
            ],
            "image/png": "[encoded data removed]"
          },
          "metadata": {}
        },
        {
          "output_type": "stream",
          "name": "stdout",
          "text": [
            "\n",
            "Statistics for effective_W:\n",
            "Mean: -0.000223\n",
            "Standard Deviation: 0.000335\n",
            "Min: -0.000440\n",
            "Max: 0.000454\n",
            "Median: -0.000386\n",
            "Number of non-zero elements: 16430862\n",
            "Sparsity: 0.000247\n"
          ]
        }
      ]
    },
    {
      "cell_type": "markdown",
      "metadata": {
        "id": "f921a86c"
      },
      "source": [
        "**Reasoning**:\n",
        "The `hist` variable was not accessible because it was local to the `train_tplus1` function and the `main` function where it was called. To fix this, I will modify the `train_tplus1` function to return the `hist` variable and modify the `main` function to capture this return value. Then I will rerun the `main` function. After rerunning `main`, `hist` will be available, and I can then proceed to plot the loss and analyze the weights in a subsequent step.\n",
        "\n"
      ]
    },
    {
      "cell_type": "code",
      "metadata": {
        "colab": {
          "base_uri": "https://localhost:8080/",
          "height": 1000
        },
        "id": "zmIS0UWO_vp5",
        "outputId": "c6a3e197-f4e8-4a1d-8256-ac499c5aef40"
      },
      "source": [
        "# Modify the train_tplus1 function to return hist\n",
        "def train_tplus1(model, inp, tgt, epochs=10, lr=3e-4, lambda_in=1e-2, lambda_w1=1e-4, verbose=True):\n",
        "    opt = optim.Adam(model.parameters(), lr=lr)\n",
        "    hist = []\n",
        "\n",
        "    for ep in range(epochs):\n",
        "        opt.zero_grad()\n",
        "        spk = model(inp, steps=inp.shape[0], teacher=tgt, p_tf=0.7)\n",
        "        trial_loss = ((spk - tgt) ** 2).mean()\n",
        "        psth_loss  = ((spk.mean(1) - tgt.mean(1)) ** 2).mean()\n",
        "        reg = lambda_w1 * model.effective_W().abs().mean() + lambda_in * model.W_in.abs().mean()\n",
        "        loss = 0.7 * trial_loss + 0.3 * psth_loss + reg\n",
        "        loss.backward()\n",
        "        opt.step()\n",
        "        hist.append((float(loss.item()), float(trial_loss.item()), float(psth_loss.item())))\n",
        "        if verbose:\n",
        "            print(f\"Epoch {ep+1}/{epochs} | loss={loss.item():.6f} | trial={trial_loss.item():.6f} | psth={psth_loss.item():.6f}\")\n",
        "\n",
        "    return hist # Return hist\n",
        "\n",
        "# Modify the main function to capture the returned hist and make it accessible (e.g., global or return)\n",
        "def main():\n",
        "    global hist # Make hist globally accessible for analysis later\n",
        "    device = \"cuda\" if torch.cuda.is_available() else \"cpu\"\n",
        "    # ---- USER CONFIG ----\n",
        "    session_files = [\n",
        "        \"/content/drive/MyDrive/Neuropixel/sub-619293_ses-1184980079_ogen.nwb\",\n",
        "        \"/content/drive/MyDrive/Neuropixel/sub-619296_ses-1187930705_ogen.nwb\",\n",
        "    ]\n",
        "    t0, t1, dt = 0.0, 10.0, 0.005  # 10 seconds @ 5 ms bins\n",
        "\n",
        "    if len(session_files) and HAS_NWB:\n",
        "        spike_dict_list = [load_spikes_from_nwb(f) for f in session_files]\n",
        "        stitched = session_stitch(spike_dict_list, t0, t1, dt)\n",
        "    else:\n",
        "        raise RuntimeError(\"Please provide NWB paths in session_files.\")\n",
        "\n",
        "    print(\"Stitched spike shape:\", stitched.shape)  # (N, T)\n",
        "    if stitched.size == 0:\n",
        "        raise RuntimeError(\"No spikes loaded.\")\n",
        "\n",
        "    # Use raw binned; clip to 0/1 for 5ms bins\n",
        "    stitched = np.clip(stitched, 0, 1).astype(np.float32)\n",
        "\n",
        "    # Build tensors (T,N)\n",
        "    X = torch.tensor(stitched.T, dtype=torch.float32, device=device)\n",
        "    T, N = X.shape\n",
        "\n",
        "    # Masks (replace with real labels if available)\n",
        "    area_ids = np.zeros(N, dtype=int)         # default: single area\n",
        "    is_inh   = np.zeros(N, dtype=bool)\n",
        "    is_inh[::5] = True                        # ~20% inhibitory\n",
        "\n",
        "    S_sign, Lmask, Dmask = build_sign_and_local_masks(area_ids, is_inh)\n",
        "\n",
        "    # Model\n",
        "    global model # Make model globally accessible for analysis later\n",
        "    model = LIFLayerBio(N, S_sign.to(device), Lmask.to(device), Dmask.to(device), dt=dt).to(device)\n",
        "\n",
        "    # t+1 prediction setup\n",
        "    delta = np.random.randint(1, 6)  # 1~5 step 랜덤\n",
        "    inp, tgt = make_inputs_targets_from_binned_shift(X, delta=delta)\n",
        "\n",
        "    # Train\n",
        "    hist = train_tplus1(model, inp, tgt, epochs=50, lr=1e-2, lambda_in=0.0, lambda_w1=1e-5, verbose=True) # Capture the returned hist\n",
        "\n",
        "    # Robustness\n",
        "    _ratio, _lo, _lp = robustness_ratio(model, inp, tgt, frac=0.2)\n",
        "\n",
        "    # CCG vs W on top-|W| pairs\n",
        "    with torch.no_grad():\n",
        "        W_eff = model.effective_W()\n",
        "    ccg_res = ccg_vs_W_summary(binned_NxT=stitched, W_eff=W_eff, dt=dt, K=2000, max_lag_bins=50, use_abs=True, plot=False)\n",
        "\n",
        "    # Holography demo: single cell + small ensemble\n",
        "    stim_sets = [ [10], [101, 205, 309] ] if N > 310 else [ [min(10, N-1)], list(np.unique(np.linspace(0, N-1, num=min(3, N), dtype=int))) ]\n",
        "    holo = run_holography_protocol(model, X, dt, stim_sets, t_on=2.013, powers=(0.2,0.4,0.6,0.8,1.2))\n",
        "\n",
        "    print(\"Done.\")\n",
        "\n",
        "# Re-run the main function to train the model and make 'hist' and 'model' available\n",
        "if __name__ == \"__main__\":\n",
        "    main()"
      ],
      "execution_count": 40,
      "outputs": [
        {
          "output_type": "stream",
          "name": "stdout",
          "text": [
            "Stitched spike shape: (4054, 2001)\n",
            "Epoch 1/50 | loss=0.648108 | trial=0.651771 | psth=0.639558\n",
            "Epoch 2/50 | loss=0.671722 | trial=0.675385 | psth=0.663171\n",
            "Epoch 3/50 | loss=0.663730 | trial=0.667393 | psth=0.655179\n",
            "Epoch 4/50 | loss=0.675479 | trial=0.679142 | psth=0.666929\n",
            "Epoch 5/50 | loss=0.674819 | trial=0.678482 | psth=0.666269\n",
            "Epoch 6/50 | loss=0.667136 | trial=0.670799 | psth=0.658586\n",
            "Epoch 7/50 | loss=0.673148 | trial=0.676811 | psth=0.664598\n",
            "Epoch 8/50 | loss=0.667873 | trial=0.671536 | psth=0.659324\n",
            "Epoch 9/50 | loss=0.658508 | trial=0.662170 | psth=0.649958\n",
            "Epoch 10/50 | loss=0.660562 | trial=0.664224 | psth=0.652014\n",
            "Epoch 11/50 | loss=0.662161 | trial=0.665823 | psth=0.653615\n",
            "Epoch 12/50 | loss=0.650397 | trial=0.654058 | psth=0.641852\n",
            "Epoch 13/50 | loss=0.660344 | trial=0.664004 | psth=0.651802\n",
            "Epoch 14/50 | loss=0.642804 | trial=0.646462 | psth=0.634266\n",
            "Epoch 15/50 | loss=0.634510 | trial=0.638165 | psth=0.625980\n",
            "Epoch 16/50 | loss=0.603118 | trial=0.606770 | psth=0.594596\n",
            "Epoch 17/50 | loss=0.580106 | trial=0.583754 | psth=0.571593\n",
            "Epoch 18/50 | loss=0.521435 | trial=0.525079 | psth=0.512933\n",
            "Epoch 19/50 | loss=0.476625 | trial=0.480265 | psth=0.468131\n",
            "Epoch 20/50 | loss=0.417481 | trial=0.421117 | psth=0.408996\n",
            "Epoch 21/50 | loss=0.347701 | trial=0.351330 | psth=0.339233\n",
            "Epoch 22/50 | loss=0.202226 | trial=0.205838 | psth=0.193797\n",
            "Epoch 23/50 | loss=0.010246 | trial=0.013856 | psth=0.001821\n",
            "Epoch 24/50 | loss=0.009564 | trial=0.013212 | psth=0.001051\n",
            "Epoch 25/50 | loss=0.009390 | trial=0.013048 | psth=0.000855\n",
            "Epoch 26/50 | loss=0.009290 | trial=0.012951 | psth=0.000746\n",
            "Epoch 27/50 | loss=0.009365 | trial=0.013027 | psth=0.000818\n",
            "Epoch 28/50 | loss=0.009398 | trial=0.013061 | psth=0.000850\n",
            "Epoch 29/50 | loss=0.009250 | trial=0.012914 | psth=0.000701\n",
            "Epoch 30/50 | loss=0.009182 | trial=0.012845 | psth=0.000633\n",
            "Epoch 31/50 | loss=0.009331 | trial=0.012995 | psth=0.000782\n",
            "Epoch 32/50 | loss=0.009138 | trial=0.012802 | psth=0.000589\n",
            "Epoch 33/50 | loss=0.009206 | trial=0.012870 | psth=0.000656\n",
            "Epoch 34/50 | loss=0.009263 | trial=0.012927 | psth=0.000713\n",
            "Epoch 35/50 | loss=0.009181 | trial=0.012845 | psth=0.000632\n",
            "Epoch 36/50 | loss=0.009227 | trial=0.012890 | psth=0.000677\n",
            "Epoch 37/50 | loss=0.009219 | trial=0.012883 | psth=0.000670\n",
            "Epoch 38/50 | loss=0.009204 | trial=0.012868 | psth=0.000655\n",
            "Epoch 39/50 | loss=0.009158 | trial=0.012822 | psth=0.000609\n",
            "Epoch 40/50 | loss=0.009163 | trial=0.012827 | psth=0.000613\n",
            "Epoch 41/50 | loss=0.009198 | trial=0.012861 | psth=0.000648\n",
            "Epoch 42/50 | loss=0.009203 | trial=0.012866 | psth=0.000653\n",
            "Epoch 43/50 | loss=0.009204 | trial=0.012868 | psth=0.000654\n",
            "Epoch 44/50 | loss=0.009259 | trial=0.012922 | psth=0.000709\n",
            "Epoch 45/50 | loss=0.009335 | trial=0.012998 | psth=0.000785\n",
            "Epoch 46/50 | loss=0.009146 | trial=0.012809 | psth=0.000596\n",
            "Epoch 47/50 | loss=0.009144 | trial=0.012808 | psth=0.000594\n"
          ]
        },
        {
          "output_type": "error",
          "ename": "KeyboardInterrupt",
          "evalue": "",
          "traceback": [
            "\u001b[0;31m---------------------------------------------------------------------------\u001b[0m",
            "\u001b[0;31mKeyboardInterrupt\u001b[0m                         Traceback (most recent call last)",
            "\u001b[0;32m/tmp/ipython-input-798128524.py\u001b[0m in \u001b[0;36m<cell line: 0>\u001b[0;34m()\u001b[0m\n\u001b[1;32m     81\u001b[0m \u001b[0;31m# Re-run the main function to train the model and make 'hist' and 'model' available\u001b[0m\u001b[0;34m\u001b[0m\u001b[0;34m\u001b[0m\u001b[0m\n\u001b[1;32m     82\u001b[0m \u001b[0;32mif\u001b[0m \u001b[0m__name__\u001b[0m \u001b[0;34m==\u001b[0m \u001b[0;34m\"__main__\"\u001b[0m\u001b[0;34m:\u001b[0m\u001b[0;34m\u001b[0m\u001b[0;34m\u001b[0m\u001b[0m\n\u001b[0;32m---> 83\u001b[0;31m     \u001b[0mmain\u001b[0m\u001b[0;34m(\u001b[0m\u001b[0;34m)\u001b[0m\u001b[0;34m\u001b[0m\u001b[0;34m\u001b[0m\u001b[0m\n\u001b[0m",
            "\u001b[0;32m/tmp/ipython-input-798128524.py\u001b[0m in \u001b[0;36mmain\u001b[0;34m()\u001b[0m\n\u001b[1;32m     63\u001b[0m \u001b[0;34m\u001b[0m\u001b[0m\n\u001b[1;32m     64\u001b[0m     \u001b[0;31m# Train\u001b[0m\u001b[0;34m\u001b[0m\u001b[0;34m\u001b[0m\u001b[0m\n\u001b[0;32m---> 65\u001b[0;31m     \u001b[0mhist\u001b[0m \u001b[0;34m=\u001b[0m \u001b[0mtrain_tplus1\u001b[0m\u001b[0;34m(\u001b[0m\u001b[0mmodel\u001b[0m\u001b[0;34m,\u001b[0m \u001b[0minp\u001b[0m\u001b[0;34m,\u001b[0m \u001b[0mtgt\u001b[0m\u001b[0;34m,\u001b[0m \u001b[0mepochs\u001b[0m\u001b[0;34m=\u001b[0m\u001b[0;36m50\u001b[0m\u001b[0;34m,\u001b[0m \u001b[0mlr\u001b[0m\u001b[0;34m=\u001b[0m\u001b[0;36m1e-2\u001b[0m\u001b[0;34m,\u001b[0m \u001b[0mlambda_in\u001b[0m\u001b[0;34m=\u001b[0m\u001b[0;36m0.0\u001b[0m\u001b[0;34m,\u001b[0m \u001b[0mlambda_w1\u001b[0m\u001b[0;34m=\u001b[0m\u001b[0;36m1e-5\u001b[0m\u001b[0;34m,\u001b[0m \u001b[0mverbose\u001b[0m\u001b[0;34m=\u001b[0m\u001b[0;32mTrue\u001b[0m\u001b[0;34m)\u001b[0m \u001b[0;31m# Capture the returned hist\u001b[0m\u001b[0;34m\u001b[0m\u001b[0;34m\u001b[0m\u001b[0m\n\u001b[0m\u001b[1;32m     66\u001b[0m \u001b[0;34m\u001b[0m\u001b[0m\n\u001b[1;32m     67\u001b[0m     \u001b[0;31m# Robustness\u001b[0m\u001b[0;34m\u001b[0m\u001b[0;34m\u001b[0m\u001b[0m\n",
            "\u001b[0;32m/tmp/ipython-input-798128524.py\u001b[0m in \u001b[0;36mtrain_tplus1\u001b[0;34m(model, inp, tgt, epochs, lr, lambda_in, lambda_w1, verbose)\u001b[0m\n\u001b[1;32m     11\u001b[0m         \u001b[0mreg\u001b[0m \u001b[0;34m=\u001b[0m \u001b[0mlambda_w1\u001b[0m \u001b[0;34m*\u001b[0m \u001b[0mmodel\u001b[0m\u001b[0;34m.\u001b[0m\u001b[0meffective_W\u001b[0m\u001b[0;34m(\u001b[0m\u001b[0;34m)\u001b[0m\u001b[0;34m.\u001b[0m\u001b[0mabs\u001b[0m\u001b[0;34m(\u001b[0m\u001b[0;34m)\u001b[0m\u001b[0;34m.\u001b[0m\u001b[0mmean\u001b[0m\u001b[0;34m(\u001b[0m\u001b[0;34m)\u001b[0m \u001b[0;34m+\u001b[0m \u001b[0mlambda_in\u001b[0m \u001b[0;34m*\u001b[0m \u001b[0mmodel\u001b[0m\u001b[0;34m.\u001b[0m\u001b[0mW_in\u001b[0m\u001b[0;34m.\u001b[0m\u001b[0mabs\u001b[0m\u001b[0;34m(\u001b[0m\u001b[0;34m)\u001b[0m\u001b[0;34m.\u001b[0m\u001b[0mmean\u001b[0m\u001b[0;34m(\u001b[0m\u001b[0;34m)\u001b[0m\u001b[0;34m\u001b[0m\u001b[0;34m\u001b[0m\u001b[0m\n\u001b[1;32m     12\u001b[0m         \u001b[0mloss\u001b[0m \u001b[0;34m=\u001b[0m \u001b[0;36m0.7\u001b[0m \u001b[0;34m*\u001b[0m \u001b[0mtrial_loss\u001b[0m \u001b[0;34m+\u001b[0m \u001b[0;36m0.3\u001b[0m \u001b[0;34m*\u001b[0m \u001b[0mpsth_loss\u001b[0m \u001b[0;34m+\u001b[0m \u001b[0mreg\u001b[0m\u001b[0;34m\u001b[0m\u001b[0;34m\u001b[0m\u001b[0m\n\u001b[0;32m---> 13\u001b[0;31m         \u001b[0mloss\u001b[0m\u001b[0;34m.\u001b[0m\u001b[0mbackward\u001b[0m\u001b[0;34m(\u001b[0m\u001b[0;34m)\u001b[0m\u001b[0;34m\u001b[0m\u001b[0;34m\u001b[0m\u001b[0m\n\u001b[0m\u001b[1;32m     14\u001b[0m         \u001b[0mopt\u001b[0m\u001b[0;34m.\u001b[0m\u001b[0mstep\u001b[0m\u001b[0;34m(\u001b[0m\u001b[0;34m)\u001b[0m\u001b[0;34m\u001b[0m\u001b[0;34m\u001b[0m\u001b[0m\n\u001b[1;32m     15\u001b[0m         \u001b[0mhist\u001b[0m\u001b[0;34m.\u001b[0m\u001b[0mappend\u001b[0m\u001b[0;34m(\u001b[0m\u001b[0;34m(\u001b[0m\u001b[0mfloat\u001b[0m\u001b[0;34m(\u001b[0m\u001b[0mloss\u001b[0m\u001b[0;34m.\u001b[0m\u001b[0mitem\u001b[0m\u001b[0;34m(\u001b[0m\u001b[0;34m)\u001b[0m\u001b[0;34m)\u001b[0m\u001b[0;34m,\u001b[0m \u001b[0mfloat\u001b[0m\u001b[0;34m(\u001b[0m\u001b[0mtrial_loss\u001b[0m\u001b[0;34m.\u001b[0m\u001b[0mitem\u001b[0m\u001b[0;34m(\u001b[0m\u001b[0;34m)\u001b[0m\u001b[0;34m)\u001b[0m\u001b[0;34m,\u001b[0m \u001b[0mfloat\u001b[0m\u001b[0;34m(\u001b[0m\u001b[0mpsth_loss\u001b[0m\u001b[0;34m.\u001b[0m\u001b[0mitem\u001b[0m\u001b[0;34m(\u001b[0m\u001b[0;34m)\u001b[0m\u001b[0;34m)\u001b[0m\u001b[0;34m)\u001b[0m\u001b[0;34m)\u001b[0m\u001b[0;34m\u001b[0m\u001b[0;34m\u001b[0m\u001b[0m\n",
            "\u001b[0;32m/usr/local/lib/python3.12/dist-packages/torch/_tensor.py\u001b[0m in \u001b[0;36mbackward\u001b[0;34m(self, gradient, retain_graph, create_graph, inputs)\u001b[0m\n\u001b[1;32m    645\u001b[0m                 \u001b[0minputs\u001b[0m\u001b[0;34m=\u001b[0m\u001b[0minputs\u001b[0m\u001b[0;34m,\u001b[0m\u001b[0;34m\u001b[0m\u001b[0;34m\u001b[0m\u001b[0m\n\u001b[1;32m    646\u001b[0m             )\n\u001b[0;32m--> 647\u001b[0;31m         torch.autograd.backward(\n\u001b[0m\u001b[1;32m    648\u001b[0m             \u001b[0mself\u001b[0m\u001b[0;34m,\u001b[0m \u001b[0mgradient\u001b[0m\u001b[0;34m,\u001b[0m \u001b[0mretain_graph\u001b[0m\u001b[0;34m,\u001b[0m \u001b[0mcreate_graph\u001b[0m\u001b[0;34m,\u001b[0m \u001b[0minputs\u001b[0m\u001b[0;34m=\u001b[0m\u001b[0minputs\u001b[0m\u001b[0;34m\u001b[0m\u001b[0;34m\u001b[0m\u001b[0m\n\u001b[1;32m    649\u001b[0m         )\n",
            "\u001b[0;32m/usr/local/lib/python3.12/dist-packages/torch/autograd/__init__.py\u001b[0m in \u001b[0;36mbackward\u001b[0;34m(tensors, grad_tensors, retain_graph, create_graph, grad_variables, inputs)\u001b[0m\n\u001b[1;32m    352\u001b[0m     \u001b[0;31m# some Python versions print out the first line of a multi-line function\u001b[0m\u001b[0;34m\u001b[0m\u001b[0;34m\u001b[0m\u001b[0m\n\u001b[1;32m    353\u001b[0m     \u001b[0;31m# calls in the traceback and some print out the last line\u001b[0m\u001b[0;34m\u001b[0m\u001b[0;34m\u001b[0m\u001b[0m\n\u001b[0;32m--> 354\u001b[0;31m     _engine_run_backward(\n\u001b[0m\u001b[1;32m    355\u001b[0m         \u001b[0mtensors\u001b[0m\u001b[0;34m,\u001b[0m\u001b[0;34m\u001b[0m\u001b[0;34m\u001b[0m\u001b[0m\n\u001b[1;32m    356\u001b[0m         \u001b[0mgrad_tensors_\u001b[0m\u001b[0;34m,\u001b[0m\u001b[0;34m\u001b[0m\u001b[0;34m\u001b[0m\u001b[0m\n",
            "\u001b[0;32m/usr/local/lib/python3.12/dist-packages/torch/autograd/graph.py\u001b[0m in \u001b[0;36m_engine_run_backward\u001b[0;34m(t_outputs, *args, **kwargs)\u001b[0m\n\u001b[1;32m    827\u001b[0m         \u001b[0munregister_hooks\u001b[0m \u001b[0;34m=\u001b[0m \u001b[0m_register_logging_hooks_on_whole_graph\u001b[0m\u001b[0;34m(\u001b[0m\u001b[0mt_outputs\u001b[0m\u001b[0;34m)\u001b[0m\u001b[0;34m\u001b[0m\u001b[0;34m\u001b[0m\u001b[0m\n\u001b[1;32m    828\u001b[0m     \u001b[0;32mtry\u001b[0m\u001b[0;34m:\u001b[0m\u001b[0;34m\u001b[0m\u001b[0;34m\u001b[0m\u001b[0m\n\u001b[0;32m--> 829\u001b[0;31m         return Variable._execution_engine.run_backward(  # Calls into the C++ engine to run the backward pass\n\u001b[0m\u001b[1;32m    830\u001b[0m             \u001b[0mt_outputs\u001b[0m\u001b[0;34m,\u001b[0m \u001b[0;34m*\u001b[0m\u001b[0margs\u001b[0m\u001b[0;34m,\u001b[0m \u001b[0;34m**\u001b[0m\u001b[0mkwargs\u001b[0m\u001b[0;34m\u001b[0m\u001b[0;34m\u001b[0m\u001b[0m\n\u001b[1;32m    831\u001b[0m         )  # Calls into the C++ engine to run the backward pass\n",
            "\u001b[0;31mKeyboardInterrupt\u001b[0m: "
          ]
        }
      ]
    },
    {
      "cell_type": "markdown",
      "metadata": {
        "id": "a94b3114"
      },
      "source": [
        "**Reasoning**:\n",
        "Now that the `hist` and `model` variables are accessible globally after rerunning the `main` function, I can proceed with plotting the training loss history and analyzing the statistics of the effective weights as per the subtask instructions.\n",
        "\n"
      ]
    },
    {
      "cell_type": "code",
      "metadata": {
        "id": "l8-cIPVYBhd2"
      },
      "source": [
        "# Extract loss values from the globally accessible 'hist' variable\n",
        "total_loss = [h[0] for h in hist]\n",
        "trial_loss = [h[1] for h in hist]\n",
        "psth_loss = [h[2] for h in hist]\n",
        "epochs_range = range(1, len(hist) + 1)\n",
        "\n",
        "# Plot the loss history\n",
        "plt.figure(figsize=(10, 6))\n",
        "plt.plot(epochs_range, total_loss, label='Total Loss')\n",
        "plt.plot(epochs_range, trial_loss, label='Trial Loss')\n",
        "plt.plot(epochs_range, psth_loss, label='PSTH Loss')\n",
        "plt.xlabel('Epoch')\n",
        "plt.ylabel('Loss')\n",
        "plt.title('Training Loss Over Epochs')\n",
        "plt.legend()\n",
        "plt.grid(True)\n",
        "plt.show()\n",
        "\n",
        "# Access the effective_W tensor from the globally accessible 'model' object\n",
        "with torch.no_grad():\n",
        "    effective_W = model.effective_W()\n",
        "\n",
        "# Calculate and print statistics for effective_W\n",
        "print(\"\\nStatistics for effective_W:\")\n",
        "print(f\"Mean: {effective_W.mean().item():.6f}\")\n",
        "print(f\"Standard Deviation: {effective_W.std().item():.6f}\")\n",
        "print(f\"Min: {effective_W.min().item():.6f}\")\n",
        "print(f\"Max: {effective_W.max().item():.6f}\")\n",
        "print(f\"Median: {effective_W.median().item():.6f}\")\n",
        "print(f\"Number of non-zero elements: {(effective_W != 0).sum().item()}\")\n",
        "print(f\"Sparsity: {1.0 - (effective_W != 0).sum().item() / effective_W.numel():.6f}\")"
      ],
      "execution_count": null,
      "outputs": []
    },
    {
      "cell_type": "markdown",
      "metadata": {
        "id": "11efaba4"
      },
      "source": [
        "## Improve ccg correspondence\n",
        "\n",
        "### Subtask:\n",
        "Experiment with different regularization strengths (`lambda_w1`) in `train_tplus1` to improve the correlation between effective weights and CCG asymmetry and positive peak. Consider if adjusting other training parameters (like learning rate or optimizer) could improve convergence for CCG correlation.\n"
      ]
    },
    {
      "cell_type": "markdown",
      "metadata": {
        "id": "681ee973"
      },
      "source": [
        "**Reasoning**:\n",
        "Modify the main function to iterate through different values of lambda_w1, re-run the training and evaluation for each value, and print the resulting CCG correlations to observe the effect of regularization strength.\n",
        "\n"
      ]
    },
    {
      "cell_type": "code",
      "metadata": {
        "id": "91a70f55"
      },
      "source": [
        "def main_with_lambda(lambda_w1_val):\n",
        "    device = \"cuda\" if torch.cuda.is_available() else \"cpu\"\n",
        "    # ---- USER CONFIG ----\n",
        "    session_files = [\n",
        "        \"/content/drive/MyDrive/Neuropixel/sub-619293_ses-1184980079_ogen.nwb\",\n",
        "        \"/content/drive/MyDrive/Neuropixel/sub-619296_ses-1187930705_ogen.nwb\",\n",
        "    ]\n",
        "    t0, t1, dt = 0.0, 10.0, 0.005  # 10 seconds @ 5 ms bins\n",
        "\n",
        "    if len(session_files) and HAS_NWB:\n",
        "        spike_dict_list = [load_spikes_from_nwb(f) for f in session_files]\n",
        "        stitched = session_stitch(spike_dict_list, t0, t1, dt)\n",
        "    else:\n",
        "        raise RuntimeError(\"Please provide NWB paths in session_files.\")\n",
        "\n",
        "    print(f\"Running with lambda_w1 = {lambda_w1_val}\")\n",
        "    print(\"Stitched spike shape:\", stitched.shape)  # (N, T)\n",
        "    if stitched.size == 0:\n",
        "        raise RuntimeError(\"No spikes loaded.\")\n",
        "\n",
        "    # Use raw binned; clip to 0/1 for 5ms bins\n",
        "    stitched = np.clip(stitched, 0, 1).astype(np.float32)\n",
        "\n",
        "    # Build tensors (T,N)\n",
        "    X = torch.tensor(stitched.T, dtype=torch.float32, device=device)\n",
        "    T, N = X.shape\n",
        "\n",
        "    # Masks (replace with real labels if available)\n",
        "    area_ids = np.zeros(N, dtype=int)         # default: single area\n",
        "    is_inh   = np.zeros(N, dtype=bool)\n",
        "    is_inh[::5] = True                        # ~20% inhibitory\n",
        "\n",
        "    S_sign, Lmask, Dmask = build_sign_and_local_masks(area_ids, is_inh)\n",
        "\n",
        "    # Model\n",
        "    model = LIFLayerBio(N, S_sign.to(device), Lmask.to(device), Dmask.to(device), dt=dt).to(device)\n",
        "\n",
        "    # t+1 prediction setup\n",
        "    # Δ를 고정하거나 랜덤으로 뽑기\n",
        "    delta = np.random.randint(1, 6)  # 1~5 step 랜덤\n",
        "    inp, tgt = make_inputs_targets_from_binned_shift(X, delta=delta)\n",
        "\n",
        "    # Train\n",
        "    hist = train_tplus1(model, inp, tgt, epochs=50, lr=1e-2, lambda_in=0.0, lambda_w1=lambda_w1_val, verbose=False)\n",
        "\n",
        "    # Robustness\n",
        "    # _ratio, _lo, _lp = robustness_ratio(model, inp, tgt, frac=0.2) # Skipping for now to focus on CCG\n",
        "\n",
        "    # CCG vs W on top-|W| pairs\n",
        "    with torch.no_grad():\n",
        "        W_eff = model.effective_W()\n",
        "    ccg_res = ccg_vs_W_summary(binned_NxT=stitched, W_eff=W_eff, dt=dt, K=2000, max_lag_bins=50, use_abs=True, plot=False)\n",
        "\n",
        "    print(f\"Results for lambda_w1 = {lambda_w1_val}\")\n",
        "    print(f\"CCG asym (0–20ms pos - neg) vs W: r = {ccg_res['r_asym']:.3f}\")\n",
        "    print(f\"CCG pos-lag peak (0–20ms) vs W:  r = {ccg_res['r_pospeak']:.3f}\")\n",
        "    print(\"-\" * 20)\n",
        "\n",
        "# Experiment with different lambda_w1 values\n",
        "lambda_values = [1e-5, 1e-4, 1e-3, 1e-2]\n",
        "\n",
        "for lambda_val in lambda_values:\n",
        "    main_with_lambda(lambda_val)\n"
      ],
      "execution_count": null,
      "outputs": []
    }
  ]
}